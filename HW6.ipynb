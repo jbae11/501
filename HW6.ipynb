{
 "cells": [
  {
   "cell_type": "code",
   "execution_count": 27,
   "metadata": {
    "collapsed": false
   },
   "outputs": [
    {
     "data": {
      "text/plain": [
       "20"
      ]
     },
     "execution_count": 27,
     "metadata": {},
     "output_type": "execute_result"
    }
   ],
   "source": [
    "import numpy as np"
   ]
  },
  {
   "cell_type": "code",
   "execution_count": 29,
   "metadata": {
    "collapsed": false
   },
   "outputs": [
    {
     "name": "stdout",
     "output_type": "stream",
     "text": [
      "0.0\n",
      "293.0\n",
      "\n",
      "\n",
      "0.00025641025641\n",
      "293.0\n",
      "\n",
      "\n",
      "0.000512820512821\n",
      "293.0\n",
      "\n",
      "\n",
      "0.000769230769231\n",
      "293.0\n",
      "\n",
      "\n",
      "0.00102564102564\n",
      "293.0\n",
      "\n",
      "\n",
      "0.00128205128205\n",
      "293.0\n",
      "\n",
      "\n",
      "0.00153846153846\n",
      "293.0\n",
      "\n",
      "\n",
      "0.00179487179487\n",
      "293.0\n",
      "\n",
      "\n",
      "0.00205128205128\n",
      "293.0\n",
      "\n",
      "\n",
      "0.00230769230769\n",
      "293.0\n",
      "\n",
      "\n",
      "0.0025641025641\n",
      "293.0\n",
      "\n",
      "\n",
      "0.00282051282051\n",
      "293.0\n",
      "\n",
      "\n",
      "0.00307692307692\n",
      "293.0\n",
      "\n",
      "\n",
      "0.00333333333333\n",
      "293.0\n",
      "\n",
      "\n",
      "0.00358974358974\n",
      "293.0\n",
      "\n",
      "\n",
      "0.00384615384615\n",
      "293.0\n",
      "\n",
      "\n",
      "0.00410256410256\n",
      "293.0\n",
      "\n",
      "\n",
      "0.00435897435897\n",
      "293.0\n",
      "\n",
      "\n",
      "0.00461538461538\n",
      "293.0\n",
      "\n",
      "\n",
      "0.00487179487179\n",
      "293.0\n",
      "\n",
      "\n",
      "0.00512820512821\n",
      "293.0\n",
      "\n",
      "\n",
      "0.00538461538462\n",
      "293.0\n",
      "\n",
      "\n",
      "0.00564102564103\n",
      "293.0\n",
      "\n",
      "\n",
      "0.00589743589744\n",
      "293.0\n",
      "\n",
      "\n",
      "0.00615384615385\n",
      "293.0\n",
      "\n",
      "\n",
      "0.00641025641026\n",
      "293.0\n",
      "\n",
      "\n",
      "0.00666666666667\n",
      "293.0\n",
      "\n",
      "\n",
      "0.00692307692308\n",
      "293.0\n",
      "\n",
      "\n",
      "0.00717948717949\n",
      "293.0\n",
      "\n",
      "\n",
      "0.0074358974359\n",
      "293.0\n",
      "\n",
      "\n",
      "0.00769230769231\n",
      "293.0\n",
      "\n",
      "\n",
      "0.00794871794872\n",
      "293.0\n",
      "\n",
      "\n",
      "0.00820512820513\n",
      "293.0\n",
      "\n",
      "\n",
      "0.00846153846154\n",
      "293.0\n",
      "\n",
      "\n",
      "0.00871794871795\n",
      "293.0\n",
      "\n",
      "\n",
      "0.00897435897436\n",
      "293.0\n",
      "\n",
      "\n",
      "0.00923076923077\n",
      "293.0\n",
      "\n",
      "\n",
      "0.00948717948718\n",
      "293.0\n",
      "\n",
      "\n",
      "0.00974358974359\n",
      "293.0\n",
      "\n",
      "\n",
      "0.01\n",
      "293.0\n",
      "\n",
      "\n"
     ]
    }
   ],
   "source": [
    "#HW 6 Problem 2\n",
    "\n",
    "#Steady State Equation\n",
    "for c in np.linspace(0,0.01,40):\n",
    "    a= 5\n",
    "    l= 0.5\n",
    "    t_0= 293\n",
    "    x=np.linspace(0,l,20)\n",
    "    k = 1.28\n",
    "    t_ss=(c*np.exp(-a*x)/(a**2*k))+(x/l)*(t_0 + (c*(1-np.exp(-a*l)))/(a**2*k))-(c/(a**2*k))\n",
    "    print(c)\n",
    "    print(max(t_ss))\n",
    "    print('\\n')"
   ]
  },
  {
   "cell_type": "code",
   "execution_count": 22,
   "metadata": {
    "collapsed": false
   },
   "outputs": [
    {
     "name": "stdout",
     "output_type": "stream",
     "text": [
      "nan\n"
     ]
    },
    {
     "name": "stderr",
     "output_type": "stream",
     "text": [
      "/home/teddy/miniconda3/lib/python3.5/site-packages/ipykernel/__main__.py:7: RuntimeWarning: invalid value encountered in log\n"
     ]
    }
   ],
   "source": [
    "c = 0.1\n",
    "a= 5\n",
    "l= 0.5\n",
    "t_0= 293\n",
    "x=np.linspace(1,5,100)\n",
    "k = 1.28\n",
    "print((np.log((-a*k)/(c*l)*(t_0+(c-c*np.exp(-a*l))/(a**2*k))))/(-a))"
   ]
  },
  {
   "cell_type": "code",
   "execution_count": null,
   "metadata": {
    "collapsed": true
   },
   "outputs": [],
   "source": []
  }
 ],
 "metadata": {
  "kernelspec": {
   "display_name": "Python 3",
   "language": "python",
   "name": "python3"
  },
  "language_info": {
   "codemirror_mode": {
    "name": "ipython",
    "version": 3
   },
   "file_extension": ".py",
   "mimetype": "text/x-python",
   "name": "python",
   "nbconvert_exporter": "python",
   "pygments_lexer": "ipython3",
   "version": "3.5.2"
  }
 },
 "nbformat": 4,
 "nbformat_minor": 1
}
